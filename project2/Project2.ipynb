{
 "cells": [
  {
   "cell_type": "code",
   "execution_count": 1,
   "id": "99ee2560-09ab-4749-bbb5-b767c1c883c9",
   "metadata": {},
   "outputs": [],
   "source": [
    "import pandas as pd\n",
    "import numpy as np\n",
    "import re\n",
    "import string\n",
    "import matplotlib.pyplot as plt\n",
    "import seaborn as sns\n",
    "from sklearn.model_selection import train_test_split, GridSearchCV\n",
    "from sklearn.feature_extraction.text import TfidfVectorizer\n",
    "from sklearn.linear_model import LogisticRegression\n",
    "from sklearn.ensemble import RandomForestClassifier, GradientBoostingClassifier\n",
    "from sklearn.svm import SVC\n",
    "from sklearn.naive_bayes import MultinomialNB\n",
    "from sklearn.metrics import accuracy_score, precision_score, recall_score, f1_score, confusion_matrix\n",
    "from tensorflow.keras.models import Sequential\n",
    "from tensorflow.keras.layers import Embedding, LSTM, GRU, Dense, SpatialDropout1D\n",
    "from tensorflow.keras.preprocessing.text import Tokenizer\n",
    "from tensorflow.keras.preprocessing.sequence import pad_sequences"
   ]
  },
  {
   "cell_type": "code",
   "execution_count": 2,
   "id": "3507e651-7938-4a48-80c6-477a0485c09e",
   "metadata": {},
   "outputs": [
    {
     "name": "stdout",
     "output_type": "stream",
     "text": [
      "Dataset Overview:\n",
      "                                           reviewText  Positive\n",
      "0  This is a one of the best apps acording to a b...         1\n",
      "1  This is a pretty good version of the game for ...         1\n",
      "2  this is a really cool game. there are a bunch ...         1\n",
      "3  This is a silly game and can be frustrating, b...         1\n",
      "4  This is a terrific game on any pad. Hrs of fun...         1\n",
      "\n",
      "Missing Values:\n",
      " reviewText    0\n",
      "Positive      0\n",
      "dtype: int64\n"
     ]
    }
   ],
   "source": [
    "# Load dataset\n",
    "df = pd.read_csv(\"amazon.csv\")\n",
    "\n",
    "# Display basic dataset info\n",
    "print(\"Dataset Overview:\\n\", df.head())\n",
    "print(\"\\nMissing Values:\\n\", df.isnull().sum())"
   ]
  },
  {
   "cell_type": "code",
   "execution_count": 3,
   "id": "d814b332-ac88-4f51-b400-000425dbedc0",
   "metadata": {},
   "outputs": [],
   "source": [
    "# Drop missing values\n",
    "df.dropna(inplace=True)"
   ]
  },
  {
   "cell_type": "code",
   "execution_count": 4,
   "id": "290f864c-b40e-4bd1-b1e2-41754e19e9e4",
   "metadata": {},
   "outputs": [],
   "source": [
    "# Text Preprocessing\n",
    "def preprocess_text(text):\n",
    "    text = text.lower()  # Convert to lowercase\n",
    "    text = re.sub(f\"[{string.punctuation}]\", \"\", text)  # Remove punctuation\n",
    "    text = re.sub(\"\\d+\", \"\", text)  # Remove numbers\n",
    "    return text\n",
    "\n",
    "df[\"cleaned_text\"] = df[\"reviewText\"].apply(preprocess_text)"
   ]
  },
  {
   "cell_type": "code",
   "execution_count": 5,
   "id": "0ea43085-b681-4ce0-84ef-b7a46ad6ffeb",
   "metadata": {},
   "outputs": [],
   "source": [
    "# Splitting dataset\n",
    "X = df[\"cleaned_text\"]\n",
    "y = df[\"Positive\"]\n",
    "X_train, X_test, y_train, y_test = train_test_split(X, y, test_size=0.2, random_state=42)\n"
   ]
  },
  {
   "cell_type": "code",
   "execution_count": 6,
   "id": "1c82619b-659d-4422-ba7f-38bc54269edc",
   "metadata": {},
   "outputs": [],
   "source": [
    "# TF-IDF Vectorization\n",
    "vectorizer = TfidfVectorizer(stop_words='english', max_features=5000)\n",
    "X_train_tfidf = vectorizer.fit_transform(X_train)\n",
    "X_test_tfidf = vectorizer.transform(X_test)"
   ]
  },
  {
   "cell_type": "code",
   "execution_count": 7,
   "id": "80c31f42-b2b8-4566-ad78-0b4169d3c948",
   "metadata": {},
   "outputs": [],
   "source": [
    "# Model Selection and Training\n",
    "models = {\n",
    "    \"Logistic Regression\": LogisticRegression(),\n",
    "    \"Random Forest\": RandomForestClassifier(n_estimators=100),\n",
    "    \"SVM\": SVC(),\n",
    "    \"Naïve Bayes\": MultinomialNB(),\n",
    "    \"Gradient Boosting\": GradientBoostingClassifier()\n",
    "}\n",
    "\n",
    "results = {}\n",
    "for name, model in models.items():\n",
    "    model.fit(X_train_tfidf, y_train)\n",
    "    y_pred = model.predict(X_test_tfidf)\n",
    "    results[name] = {\n",
    "        \"Accuracy\": accuracy_score(y_test, y_pred),\n",
    "        \"Precision\": precision_score(y_test, y_pred),\n",
    "        \"Recall\": recall_score(y_test, y_pred),\n",
    "        \"F1 Score\": f1_score(y_test, y_pred),\n",
    "        \"Confusion Matrix\": confusion_matrix(y_test, y_pred)\n",
    "    }\n",
    "\n"
   ]
  },
  {
   "cell_type": "code",
   "execution_count": 8,
   "id": "94b70cf8-f300-4751-abc2-e84d94d8c368",
   "metadata": {},
   "outputs": [],
   "source": [
    "# Hyperparameter Tuning for SVM\n",
    "param_grid = {\"C\": [0.1, 1, 10], \"kernel\": [\"linear\", \"rbf\"]}\n",
    "svm_grid = GridSearchCV(SVC(), param_grid, cv=5, scoring='accuracy')\n",
    "svm_grid.fit(X_train_tfidf, y_train)\n",
    "best_svm = svm_grid.best_estimator_\n",
    "\n",
    "y_pred_svm = best_svm.predict(X_test_tfidf)\n",
    "results[\"Tuned SVM\"] = {\n",
    "    \"Accuracy\": accuracy_score(y_test, y_pred_svm),\n",
    "    \"Precision\": precision_score(y_test, y_pred_svm),\n",
    "    \"Recall\": recall_score(y_test, y_pred_svm),\n",
    "    \"F1 Score\": f1_score(y_test, y_pred_svm),\n",
    "    \"Confusion Matrix\": confusion_matrix(y_test, y_pred_svm)\n",
    "}\n"
   ]
  },
  {
   "cell_type": "code",
   "execution_count": 13,
   "id": "e6371b16-e991-49db-aed8-4a1d0c829c05",
   "metadata": {},
   "outputs": [
    {
     "name": "stdout",
     "output_type": "stream",
     "text": [
      "Epoch 1/5\n",
      "\u001b[1m500/500\u001b[0m \u001b[32m━━━━━━━━━━━━━━━━━━━━\u001b[0m\u001b[37m\u001b[0m \u001b[1m144s\u001b[0m 286ms/step - accuracy: 0.7470 - loss: 0.5666 - val_accuracy: 0.7605 - val_loss: 0.5505\n",
      "Epoch 2/5\n",
      "\u001b[1m500/500\u001b[0m \u001b[32m━━━━━━━━━━━━━━━━━━━━\u001b[0m\u001b[37m\u001b[0m \u001b[1m153s\u001b[0m 307ms/step - accuracy: 0.7674 - loss: 0.5433 - val_accuracy: 0.7605 - val_loss: 0.5527\n",
      "Epoch 3/5\n",
      "\u001b[1m500/500\u001b[0m \u001b[32m━━━━━━━━━━━━━━━━━━━━\u001b[0m\u001b[37m\u001b[0m \u001b[1m138s\u001b[0m 276ms/step - accuracy: 0.7530 - loss: 0.5609 - val_accuracy: 0.7605 - val_loss: 0.5514\n",
      "Epoch 4/5\n",
      "\u001b[1m500/500\u001b[0m \u001b[32m━━━━━━━━━━━━━━━━━━━━\u001b[0m\u001b[37m\u001b[0m \u001b[1m163s\u001b[0m 326ms/step - accuracy: 0.7636 - loss: 0.5476 - val_accuracy: 0.7605 - val_loss: 0.5505\n",
      "Epoch 5/5\n",
      "\u001b[1m500/500\u001b[0m \u001b[32m━━━━━━━━━━━━━━━━━━━━\u001b[0m\u001b[37m\u001b[0m \u001b[1m133s\u001b[0m 265ms/step - accuracy: 0.7597 - loss: 0.5516 - val_accuracy: 0.7605 - val_loss: 0.5505\n",
      "\u001b[1m125/125\u001b[0m \u001b[32m━━━━━━━━━━━━━━━━━━━━\u001b[0m\u001b[37m\u001b[0m \u001b[1m11s\u001b[0m 88ms/step\n"
     ]
    }
   ],
   "source": [
    "# LSTM Model\n",
    "max_words = 5000  # Vocabulary size\n",
    "max_len = 500  # Maximum sequence length\n",
    "\n",
    "# Tokenization and padding\n",
    "tokenizer = Tokenizer(num_words=max_words, oov_token=\"<OOV>\")\n",
    "tokenizer.fit_on_texts(X_train)\n",
    "\n",
    "X_train_seq = tokenizer.texts_to_sequences(X_train)\n",
    "X_test_seq = tokenizer.texts_to_sequences(X_test)\n",
    "\n",
    "X_train_pad = pad_sequences(X_train_seq, maxlen=max_len, padding='post', truncating='post')\n",
    "X_test_pad = pad_sequences(X_test_seq, maxlen=max_len, padding='post', truncating='post')\n",
    "\n",
    "# Define LSTM model\n",
    "lstm_model = Sequential([\n",
    "    Embedding(input_dim=max_words, output_dim=128),  # Ensure input_dim is set correctly\n",
    "    SpatialDropout1D(0.2),\n",
    "    LSTM(64, dropout=0.2, recurrent_dropout=0.2),\n",
    "    Dense(1, activation='sigmoid')\n",
    "])\n",
    "\n",
    "# Compile model\n",
    "lstm_model.compile(loss='binary_crossentropy', optimizer='adam', metrics=['accuracy'])\n",
    "\n",
    "# Train model\n",
    "lstm_model.fit(X_train_pad, y_train, epochs=5, batch_size=32, validation_data=(X_test_pad, y_test))\n",
    "\n",
    "# Predictions\n",
    "lstm_pred = (lstm_model.predict(X_test_pad) > 0.5).astype(\"int32\")\n",
    "\n",
    "# Evaluate model\n",
    "results[\"LSTM\"] = {\n",
    "    \"Accuracy\": accuracy_score(y_test, lstm_pred),\n",
    "    \"Precision\": precision_score(y_test, lstm_pred),\n",
    "    \"Recall\": recall_score(y_test, lstm_pred),\n",
    "    \"F1 Score\": f1_score(y_test, lstm_pred),\n",
    "    \"Confusion Matrix\": confusion_matrix(y_test, lstm_pred)\n",
    "}\n"
   ]
  },
  {
   "cell_type": "code",
   "execution_count": 15,
   "id": "69cd988e-5893-419c-96a7-da1e713f81ae",
   "metadata": {},
   "outputs": [
    {
     "name": "stdout",
     "output_type": "stream",
     "text": [
      "\n",
      "Logistic Regression Performance:\n",
      "Accuracy: 0.89\n",
      "Precision: 0.8973732437385461\n",
      "Recall: 0.9658119658119658\n",
      "F1 Score: 0.9303356554781508\n",
      "Confusion Matrix: [[ 622  336]\n",
      " [ 104 2938]]\n",
      "\n",
      "Random Forest Performance:\n",
      "Accuracy: 0.872\n",
      "Precision: 0.8861416361416361\n",
      "Recall: 0.9543063773833005\n",
      "F1 Score: 0.9189616967394745\n",
      "Confusion Matrix: [[ 585  373]\n",
      " [ 139 2903]]\n",
      "\n",
      "SVM Performance:\n",
      "Accuracy: 0.8925\n",
      "Precision: 0.9006134969325154\n",
      "Recall: 0.965154503616042\n",
      "F1 Score: 0.9317676927959379\n",
      "Confusion Matrix: [[ 634  324]\n",
      " [ 106 2936]]\n",
      "\n",
      "Naïve Bayes Performance:\n",
      "Accuracy: 0.85975\n",
      "Precision: 0.8545298656759074\n",
      "Recall: 0.9829059829059829\n",
      "F1 Score: 0.9142332976609081\n",
      "Confusion Matrix: [[ 449  509]\n",
      " [  52 2990]]\n",
      "\n",
      "Gradient Boosting Performance:\n",
      "Accuracy: 0.838\n",
      "Precision: 0.8345444382336501\n",
      "Recall: 0.9815910585141354\n",
      "F1 Score: 0.9021148036253777\n",
      "Confusion Matrix: [[ 366  592]\n",
      " [  56 2986]]\n",
      "\n",
      "Tuned SVM Performance:\n",
      "Accuracy: 0.893\n",
      "Precision: 0.907165109034268\n",
      "Recall: 0.9572649572649573\n",
      "F1 Score: 0.9315419065898913\n",
      "Confusion Matrix: [[ 660  298]\n",
      " [ 130 2912]]\n",
      "\n",
      "LSTM Performance:\n",
      "Accuracy: 0.7605\n",
      "Precision: 0.7605\n",
      "Recall: 1.0\n",
      "F1 Score: 0.8639591025276909\n",
      "Confusion Matrix: [[   0  958]\n",
      " [   0 3042]]\n"
     ]
    }
   ],
   "source": [
    "# Comparative Analysis\n",
    "for model, metrics in results.items():\n",
    "    print(f\"\\n{model} Performance:\")\n",
    "    for metric, value in metrics.items():\n",
    "        print(f\"{metric}: {value}\")\n",
    "    "
   ]
  },
  {
   "cell_type": "code",
   "execution_count": 17,
   "id": "b2313c2a-7abe-4310-bfad-55b8df0311aa",
   "metadata": {},
   "outputs": [
    {
     "name": "stderr",
     "output_type": "stream",
     "text": [
      "/opt/anaconda3/lib/python3.11/site-packages/seaborn/_oldcore.py:1765: FutureWarning: unique with argument that is not not a Series, Index, ExtensionArray, or np.ndarray is deprecated and will raise in a future version.\n",
      "  order = pd.unique(vector)\n"
     ]
    },
    {
     "data": {
      "image/png": "[encoded data removed]",
      "text/plain": [
       "<Figure size 800x500 with 1 Axes>"
      ]
     },
     "metadata": {},
     "output_type": "display_data"
    },
    {
     "name": "stdout",
     "output_type": "stream",
     "text": [
      "\n",
      "Conclusion: The best-performing model is determined based on the highest accuracy and other metric values.\n"
     ]
    }
   ],
   "source": [
    "# Plot Accuracy Comparison\n",
    "plt.figure(figsize=(8,5))\n",
    "model_names = list(results.keys())\n",
    "accuracies = [results[m][\"Accuracy\"] for m in model_names]\n",
    "sns.barplot(x=model_names, y=accuracies)\n",
    "plt.title(\"Model Accuracy Comparison\")\n",
    "plt.xlabel(\"Model\")\n",
    "plt.ylabel(\"Accuracy\")\n",
    "plt.xticks(rotation=45)\n",
    "plt.show()\n",
    "\n",
    "print(\"\\nConclusion: The best-performing model is determined based on the highest accuracy and other metric values.\")\n"
   ]
  },
  {
   "cell_type": "code",
   "execution_count": null,
   "id": "93bbd20b-b236-4054-8045-8d3d5f40232c",
   "metadata": {},
   "outputs": [],
   "source": []
  }
 ],
 "metadata": {
  "kernelspec": {
   "display_name": "Python 3 (ipykernel)",
   "language": "python",
   "name": "python3"
  },
  "language_info": {
   "codemirror_mode": {
    "name": "ipython",
    "version": 3
   },
   "file_extension": ".py",
   "mimetype": "text/x-python",
   "name": "python",
   "nbconvert_exporter": "python",
   "pygments_lexer": "ipython3",
   "version": "3.11.0"
  }
 },
 "nbformat": 4,
 "nbformat_minor": 5
}
