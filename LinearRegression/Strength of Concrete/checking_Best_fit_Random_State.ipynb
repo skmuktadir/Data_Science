{
 "cells": [
  {
   "cell_type": "code",
   "execution_count": 21,
   "id": "8992402c-344f-4f2d-862a-27687c87f830",
   "metadata": {},
   "outputs": [
    {
     "name": "stdout",
     "output_type": "stream",
     "text": [
      "Best R^2 score: 0.6910344567773763\n",
      "Corresponding random_state: 257\n",
      "Best R^2 score: 0.8995283777723114\n",
      "Corresponding degree: 138\n"
     ]
    }
   ],
   "source": [
    "import pandas as pd\n",
    "import numpy as np\n",
    "from sklearn.datasets import make_classification\n",
    "from sklearn.model_selection import train_test_split\n",
    "from sklearn.linear_model import LinearRegression, Ridge, Lasso\n",
    "from sklearn.preprocessing import PolynomialFeatures\n",
    "from sklearn.metrics import r2_score\n",
    "\n",
    "# Load the CSV file\n",
    "df = pd.read_csv('concrete_data.csv')\n",
    "# Define lists to store scores and random states\n",
    "scores = []\n",
    "random_states = []\n",
    "count=1\n",
    "scores_poly= []\n",
    "# Loop until a specific random_state is reached\n",
    "while True:\n",
    "    x,y = (df[['Cement','Blast Furnace Slag','Fly Ash','Water','Superplasticizer','Coarse Aggregate','Fine Aggregate','Age']],df.Strength)\n",
    "    # Perform train-test split\n",
    "    x_train, x_test, y_train, y_test = train_test_split(x, y, test_size=0.30, random_state=count)\n",
    "\n",
    "    # Initialize and fit the linear regression model\n",
    "    reg = linear_model.LinearRegression()\n",
    "    reg.fit(x_train, y_train)\n",
    "    \n",
    "    # Polynomial Regression\n",
    "    poly = PolynomialFeatures(degree=3)  # You can adjust the degree of polynomial\n",
    "    x_train_poly = poly.fit_transform(x_train)\n",
    "    x_test_poly = poly.transform(x_test)\n",
    "    reg_poly = LinearRegression()\n",
    "    reg_poly.fit(x_train_poly, y_train)\n",
    "    y_pred_poly = reg_poly.predict(x_test_poly)\n",
    "    score_poly = r2_score(y_test, y_pred_poly)\n",
    "    \n",
    "    scores_poly.append(score_poly)\n",
    "    # Make predictions\n",
    "    y_pred = reg.predict(x_test)\n",
    "\n",
    "    # Calculate the R^2 score\n",
    "    score = r2_score(y_test, y_pred)\n",
    "    \n",
    "    # Append score and random_state to lists\n",
    "    scores.append(score)\n",
    "    random_states.append(count)\n",
    "\n",
    "    # Increment the random_state\n",
    "    count =count+ 1\n",
    "\n",
    "    # Check if the condition is met (e.g., random_state reaches 10000)\n",
    "    if count == 1040:\n",
    "        break\n",
    "\n",
    "# Find the maximum score and its corresponding random_state\n",
    "max_score = max(scores)\n",
    "best_random_state = random_states[scores.index(max_score)]\n",
    "\n",
    "max_score_poly = max(scores_poly)\n",
    "best_random_state_poly = random_states[scores_poly.index(max_score_poly)]\n",
    "print(\"Best R^2 score:\", max_score)\n",
    "print(\"Corresponding random_state:\", best_random_state)\n",
    "print(\"Best R^2 score:\", max_score_poly)\n",
    "print(\"Corresponding degree:\", best_random_state_poly)\n"
   ]
  },
  {
   "cell_type": "code",
   "execution_count": null,
   "id": "ce29a67d-5646-44b3-9cab-bb4fb898d594",
   "metadata": {},
   "outputs": [],
   "source": []
  }
 ],
 "metadata": {
  "kernelspec": {
   "display_name": "Python 3 (ipykernel)",
   "language": "python",
   "name": "python3"
  },
  "language_info": {
   "codemirror_mode": {
    "name": "ipython",
    "version": 3
   },
   "file_extension": ".py",
   "mimetype": "text/x-python",
   "name": "python",
   "nbconvert_exporter": "python",
   "pygments_lexer": "ipython3",
   "version": "3.11.7"
  }
 },
 "nbformat": 4,
 "nbformat_minor": 5
}
