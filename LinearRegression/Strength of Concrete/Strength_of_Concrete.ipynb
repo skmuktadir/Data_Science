{
 "cells": [
  {
   "cell_type": "code",
   "execution_count": 458,
   "id": "5e944e04-3d47-4622-9ef1-f33ded963b4e",
   "metadata": {},
   "outputs": [],
   "source": [
    "import pandas as pd\n",
    "import numpy as np\n",
    "from sklearn.model_selection import train_test_split\n",
    "from sklearn.linear_model import LinearRegression, Ridge, Lasso, ElasticNet\n",
    "from sklearn.preprocessing import PolynomialFeatures\n",
    "from sklearn.preprocessing import PolynomialFeatures, StandardScaler\n",
    "from sklearn.svm import SVR\n",
    "from sklearn.tree import DecisionTreeRegressor\n",
    "from sklearn.ensemble import RandomForestRegressor, GradientBoostingRegressor, AdaBoostRegressor\n",
    "from sklearn.metrics import r2_score"
   ]
  },
  {
   "cell_type": "code",
   "execution_count": 459,
   "id": "c7edec4f-93be-49e3-9fac-9ea52032a805",
   "metadata": {},
   "outputs": [
    {
     "data": {
      "text/html": [
       "<div>\n",
       "<style scoped>\n",
       "    .dataframe tbody tr th:only-of-type {\n",
       "        vertical-align: middle;\n",
       "    }\n",
       "\n",
       "    .dataframe tbody tr th {\n",
       "        vertical-align: top;\n",
       "    }\n",
       "\n",
       "    .dataframe thead th {\n",
       "        text-align: right;\n",
       "    }\n",
       "</style>\n",
       "<table border=\"1\" class=\"dataframe\">\n",
       "  <thead>\n",
       "    <tr style=\"text-align: right;\">\n",
       "      <th></th>\n",
       "      <th>Cement</th>\n",
       "      <th>Blast Furnace Slag</th>\n",
       "      <th>Fly Ash</th>\n",
       "      <th>Water</th>\n",
       "      <th>Superplasticizer</th>\n",
       "      <th>Coarse Aggregate</th>\n",
       "      <th>Fine Aggregate</th>\n",
       "      <th>Age</th>\n",
       "      <th>Strength</th>\n",
       "    </tr>\n",
       "  </thead>\n",
       "  <tbody>\n",
       "    <tr>\n",
       "      <th>0</th>\n",
       "      <td>540.0</td>\n",
       "      <td>0.0</td>\n",
       "      <td>0.0</td>\n",
       "      <td>162.0</td>\n",
       "      <td>2.5</td>\n",
       "      <td>1040.0</td>\n",
       "      <td>676.0</td>\n",
       "      <td>28</td>\n",
       "      <td>79.99</td>\n",
       "    </tr>\n",
       "    <tr>\n",
       "      <th>1</th>\n",
       "      <td>540.0</td>\n",
       "      <td>0.0</td>\n",
       "      <td>0.0</td>\n",
       "      <td>162.0</td>\n",
       "      <td>2.5</td>\n",
       "      <td>1055.0</td>\n",
       "      <td>676.0</td>\n",
       "      <td>28</td>\n",
       "      <td>61.89</td>\n",
       "    </tr>\n",
       "    <tr>\n",
       "      <th>2</th>\n",
       "      <td>332.5</td>\n",
       "      <td>142.5</td>\n",
       "      <td>0.0</td>\n",
       "      <td>228.0</td>\n",
       "      <td>0.0</td>\n",
       "      <td>932.0</td>\n",
       "      <td>594.0</td>\n",
       "      <td>270</td>\n",
       "      <td>40.27</td>\n",
       "    </tr>\n",
       "    <tr>\n",
       "      <th>3</th>\n",
       "      <td>332.5</td>\n",
       "      <td>142.5</td>\n",
       "      <td>0.0</td>\n",
       "      <td>228.0</td>\n",
       "      <td>0.0</td>\n",
       "      <td>932.0</td>\n",
       "      <td>594.0</td>\n",
       "      <td>365</td>\n",
       "      <td>41.05</td>\n",
       "    </tr>\n",
       "    <tr>\n",
       "      <th>4</th>\n",
       "      <td>198.6</td>\n",
       "      <td>132.4</td>\n",
       "      <td>0.0</td>\n",
       "      <td>192.0</td>\n",
       "      <td>0.0</td>\n",
       "      <td>978.4</td>\n",
       "      <td>825.5</td>\n",
       "      <td>360</td>\n",
       "      <td>44.30</td>\n",
       "    </tr>\n",
       "    <tr>\n",
       "      <th>...</th>\n",
       "      <td>...</td>\n",
       "      <td>...</td>\n",
       "      <td>...</td>\n",
       "      <td>...</td>\n",
       "      <td>...</td>\n",
       "      <td>...</td>\n",
       "      <td>...</td>\n",
       "      <td>...</td>\n",
       "      <td>...</td>\n",
       "    </tr>\n",
       "    <tr>\n",
       "      <th>1025</th>\n",
       "      <td>276.4</td>\n",
       "      <td>116.0</td>\n",
       "      <td>90.3</td>\n",
       "      <td>179.6</td>\n",
       "      <td>8.9</td>\n",
       "      <td>870.1</td>\n",
       "      <td>768.3</td>\n",
       "      <td>28</td>\n",
       "      <td>44.28</td>\n",
       "    </tr>\n",
       "    <tr>\n",
       "      <th>1026</th>\n",
       "      <td>322.2</td>\n",
       "      <td>0.0</td>\n",
       "      <td>115.6</td>\n",
       "      <td>196.0</td>\n",
       "      <td>10.4</td>\n",
       "      <td>817.9</td>\n",
       "      <td>813.4</td>\n",
       "      <td>28</td>\n",
       "      <td>31.18</td>\n",
       "    </tr>\n",
       "    <tr>\n",
       "      <th>1027</th>\n",
       "      <td>148.5</td>\n",
       "      <td>139.4</td>\n",
       "      <td>108.6</td>\n",
       "      <td>192.7</td>\n",
       "      <td>6.1</td>\n",
       "      <td>892.4</td>\n",
       "      <td>780.0</td>\n",
       "      <td>28</td>\n",
       "      <td>23.70</td>\n",
       "    </tr>\n",
       "    <tr>\n",
       "      <th>1028</th>\n",
       "      <td>159.1</td>\n",
       "      <td>186.7</td>\n",
       "      <td>0.0</td>\n",
       "      <td>175.6</td>\n",
       "      <td>11.3</td>\n",
       "      <td>989.6</td>\n",
       "      <td>788.9</td>\n",
       "      <td>28</td>\n",
       "      <td>32.77</td>\n",
       "    </tr>\n",
       "    <tr>\n",
       "      <th>1029</th>\n",
       "      <td>260.9</td>\n",
       "      <td>100.5</td>\n",
       "      <td>78.3</td>\n",
       "      <td>200.6</td>\n",
       "      <td>8.6</td>\n",
       "      <td>864.5</td>\n",
       "      <td>761.5</td>\n",
       "      <td>28</td>\n",
       "      <td>32.40</td>\n",
       "    </tr>\n",
       "  </tbody>\n",
       "</table>\n",
       "<p>1030 rows × 9 columns</p>\n",
       "</div>"
      ],
      "text/plain": [
       "      Cement  Blast Furnace Slag  Fly Ash  Water  Superplasticizer  \\\n",
       "0      540.0                 0.0      0.0  162.0               2.5   \n",
       "1      540.0                 0.0      0.0  162.0               2.5   \n",
       "2      332.5               142.5      0.0  228.0               0.0   \n",
       "3      332.5               142.5      0.0  228.0               0.0   \n",
       "4      198.6               132.4      0.0  192.0               0.0   \n",
       "...      ...                 ...      ...    ...               ...   \n",
       "1025   276.4               116.0     90.3  179.6               8.9   \n",
       "1026   322.2                 0.0    115.6  196.0              10.4   \n",
       "1027   148.5               139.4    108.6  192.7               6.1   \n",
       "1028   159.1               186.7      0.0  175.6              11.3   \n",
       "1029   260.9               100.5     78.3  200.6               8.6   \n",
       "\n",
       "      Coarse Aggregate  Fine Aggregate  Age  Strength  \n",
       "0               1040.0           676.0   28     79.99  \n",
       "1               1055.0           676.0   28     61.89  \n",
       "2                932.0           594.0  270     40.27  \n",
       "3                932.0           594.0  365     41.05  \n",
       "4                978.4           825.5  360     44.30  \n",
       "...                ...             ...  ...       ...  \n",
       "1025             870.1           768.3   28     44.28  \n",
       "1026             817.9           813.4   28     31.18  \n",
       "1027             892.4           780.0   28     23.70  \n",
       "1028             989.6           788.9   28     32.77  \n",
       "1029             864.5           761.5   28     32.40  \n",
       "\n",
       "[1030 rows x 9 columns]"
      ]
     },
     "execution_count": 459,
     "metadata": {},
     "output_type": "execute_result"
    }
   ],
   "source": [
    "df=pd.read_csv('concrete_data.csv')\n",
    "df"
   ]
  },
  {
   "cell_type": "code",
   "execution_count": 460,
   "id": "f5a66a9b-412a-4bd8-99ad-a9cf39618c13",
   "metadata": {},
   "outputs": [
    {
     "data": {
      "text/plain": [
       "Cement                190.00\n",
       "Blast Furnace Slag    190.00\n",
       "Fly Ash                 0.00\n",
       "Water                 228.00\n",
       "Superplasticizer        0.00\n",
       "Coarse Aggregate      932.00\n",
       "Fine Aggregate        670.00\n",
       "Age                    90.00\n",
       "Strength               42.33\n",
       "Name: 13, dtype: float64"
      ]
     },
     "execution_count": 460,
     "metadata": {},
     "output_type": "execute_result"
    }
   ],
   "source": [
    "df.iloc[13]"
   ]
  },
  {
   "cell_type": "code",
   "execution_count": 461,
   "id": "de5b29f0-cfab-4c67-aba6-3750e36ebb11",
   "metadata": {},
   "outputs": [
    {
     "data": {
      "text/plain": [
       "Cement                0\n",
       "Blast Furnace Slag    0\n",
       "Fly Ash               0\n",
       "Water                 0\n",
       "Superplasticizer      0\n",
       "Coarse Aggregate      0\n",
       "Fine Aggregate        0\n",
       "Age                   0\n",
       "Strength              0\n",
       "dtype: int64"
      ]
     },
     "execution_count": 461,
     "metadata": {},
     "output_type": "execute_result"
    }
   ],
   "source": [
    "# Check for null values\n",
    "null_values = df.isnull()\n",
    "null_counts = null_values.sum()\n",
    "null_counts"
   ]
  },
  {
   "cell_type": "code",
   "execution_count": 462,
   "id": "c454b4fa-52d3-4f50-a6a9-2cb600cc79f5",
   "metadata": {},
   "outputs": [],
   "source": [
    "#df.corr()"
   ]
  },
  {
   "cell_type": "code",
   "execution_count": 463,
   "id": "1ee43f8c-b69e-4b93-8a07-f6c087d73161",
   "metadata": {},
   "outputs": [],
   "source": [
    "x,y = (df[['Cement','Blast Furnace Slag','Fly Ash','Water','Superplasticizer','Coarse Aggregate','Fine Aggregate','Age']],df.Strength)\n",
    "#x,y=make_classification(n_samples=1030,n_features=8,n_classes=2,random_state=42)"
   ]
  },
  {
   "cell_type": "code",
   "execution_count": 464,
   "id": "936f6b30-9275-42d8-a5a0-21965c9a4a77",
   "metadata": {},
   "outputs": [],
   "source": [
    "x_train,x_test,y_train,y_test=train_test_split(x,y,test_size=0.30,random_state=138)\n",
    "#train,test=train_test_split(df,test_size=0.30,random_state=42)"
   ]
  },
  {
   "cell_type": "code",
   "execution_count": 465,
   "id": "ec5ac5a1-bc95-415c-9058-428b7c42f8bb",
   "metadata": {},
   "outputs": [
    {
     "data": {
      "text/plain": [
       "(721, 8)"
      ]
     },
     "execution_count": 465,
     "metadata": {},
     "output_type": "execute_result"
    }
   ],
   "source": [
    "x_train.shape"
   ]
  },
  {
   "cell_type": "code",
   "execution_count": 466,
   "id": "59629764-e672-4b46-b819-d15cf781cf60",
   "metadata": {},
   "outputs": [
    {
     "data": {
      "text/plain": [
       "(1030,)"
      ]
     },
     "execution_count": 466,
     "metadata": {},
     "output_type": "execute_result"
    }
   ],
   "source": [
    "y.shape"
   ]
  },
  {
   "cell_type": "code",
   "execution_count": 467,
   "id": "ba487c68-9c29-4054-ae9a-94da1d6e4848",
   "metadata": {},
   "outputs": [
    {
     "data": {
      "text/plain": [
       "(309,)"
      ]
     },
     "execution_count": 467,
     "metadata": {},
     "output_type": "execute_result"
    }
   ],
   "source": [
    "y_test.shape"
   ]
  },
  {
   "cell_type": "code",
   "execution_count": 468,
   "id": "b4cef493-3668-42c9-8bc8-7bcee500e1af",
   "metadata": {},
   "outputs": [],
   "source": [
    "#pd.DataFrame(x_train)"
   ]
  },
  {
   "cell_type": "code",
   "execution_count": 469,
   "id": "6a91918b-6ae5-4b8f-a790-c4e2b8c902d3",
   "metadata": {},
   "outputs": [],
   "source": [
    "reg=linear_model.LinearRegression()"
   ]
  },
  {
   "cell_type": "code",
   "execution_count": 470,
   "id": "ac0c55a0-71be-4098-9cc7-299a5f2227f3",
   "metadata": {},
   "outputs": [
    {
     "data": {
      "text/html": [
       "<style>#sk-container-id-22 {color: black;background-color: white;}#sk-container-id-22 pre{padding: 0;}#sk-container-id-22 div.sk-toggleable {background-color: white;}#sk-container-id-22 label.sk-toggleable__label {cursor: pointer;display: block;width: 100%;margin-bottom: 0;padding: 0.3em;box-sizing: border-box;text-align: center;}#sk-container-id-22 label.sk-toggleable__label-arrow:before {content: \"▸\";float: left;margin-right: 0.25em;color: #696969;}#sk-container-id-22 label.sk-toggleable__label-arrow:hover:before {color: black;}#sk-container-id-22 div.sk-estimator:hover label.sk-toggleable__label-arrow:before {color: black;}#sk-container-id-22 div.sk-toggleable__content {max-height: 0;max-width: 0;overflow: hidden;text-align: left;background-color: #f0f8ff;}#sk-container-id-22 div.sk-toggleable__content pre {margin: 0.2em;color: black;border-radius: 0.25em;background-color: #f0f8ff;}#sk-container-id-22 input.sk-toggleable__control:checked~div.sk-toggleable__content {max-height: 200px;max-width: 100%;overflow: auto;}#sk-container-id-22 input.sk-toggleable__control:checked~label.sk-toggleable__label-arrow:before {content: \"▾\";}#sk-container-id-22 div.sk-estimator input.sk-toggleable__control:checked~label.sk-toggleable__label {background-color: #d4ebff;}#sk-container-id-22 div.sk-label input.sk-toggleable__control:checked~label.sk-toggleable__label {background-color: #d4ebff;}#sk-container-id-22 input.sk-hidden--visually {border: 0;clip: rect(1px 1px 1px 1px);clip: rect(1px, 1px, 1px, 1px);height: 1px;margin: -1px;overflow: hidden;padding: 0;position: absolute;width: 1px;}#sk-container-id-22 div.sk-estimator {font-family: monospace;background-color: #f0f8ff;border: 1px dotted black;border-radius: 0.25em;box-sizing: border-box;margin-bottom: 0.5em;}#sk-container-id-22 div.sk-estimator:hover {background-color: #d4ebff;}#sk-container-id-22 div.sk-parallel-item::after {content: \"\";width: 100%;border-bottom: 1px solid gray;flex-grow: 1;}#sk-container-id-22 div.sk-label:hover label.sk-toggleable__label {background-color: #d4ebff;}#sk-container-id-22 div.sk-serial::before {content: \"\";position: absolute;border-left: 1px solid gray;box-sizing: border-box;top: 0;bottom: 0;left: 50%;z-index: 0;}#sk-container-id-22 div.sk-serial {display: flex;flex-direction: column;align-items: center;background-color: white;padding-right: 0.2em;padding-left: 0.2em;position: relative;}#sk-container-id-22 div.sk-item {position: relative;z-index: 1;}#sk-container-id-22 div.sk-parallel {display: flex;align-items: stretch;justify-content: center;background-color: white;position: relative;}#sk-container-id-22 div.sk-item::before, #sk-container-id-22 div.sk-parallel-item::before {content: \"\";position: absolute;border-left: 1px solid gray;box-sizing: border-box;top: 0;bottom: 0;left: 50%;z-index: -1;}#sk-container-id-22 div.sk-parallel-item {display: flex;flex-direction: column;z-index: 1;position: relative;background-color: white;}#sk-container-id-22 div.sk-parallel-item:first-child::after {align-self: flex-end;width: 50%;}#sk-container-id-22 div.sk-parallel-item:last-child::after {align-self: flex-start;width: 50%;}#sk-container-id-22 div.sk-parallel-item:only-child::after {width: 0;}#sk-container-id-22 div.sk-dashed-wrapped {border: 1px dashed gray;margin: 0 0.4em 0.5em 0.4em;box-sizing: border-box;padding-bottom: 0.4em;background-color: white;}#sk-container-id-22 div.sk-label label {font-family: monospace;font-weight: bold;display: inline-block;line-height: 1.2em;}#sk-container-id-22 div.sk-label-container {text-align: center;}#sk-container-id-22 div.sk-container {/* jupyter's `normalize.less` sets `[hidden] { display: none; }` but bootstrap.min.css set `[hidden] { display: none !important; }` so we also need the `!important` here to be able to override the default hidden behavior on the sphinx rendered scikit-learn.org. See: https://github.com/scikit-learn/scikit-learn/issues/21755 */display: inline-block !important;position: relative;}#sk-container-id-22 div.sk-text-repr-fallback {display: none;}</style><div id=\"sk-container-id-22\" class=\"sk-top-container\"><div class=\"sk-text-repr-fallback\"><pre>LinearRegression()</pre><b>In a Jupyter environment, please rerun this cell to show the HTML representation or trust the notebook. <br />On GitHub, the HTML representation is unable to render, please try loading this page with nbviewer.org.</b></div><div class=\"sk-container\" hidden><div class=\"sk-item\"><div class=\"sk-estimator sk-toggleable\"><input class=\"sk-toggleable__control sk-hidden--visually\" id=\"sk-estimator-id-22\" type=\"checkbox\" checked><label for=\"sk-estimator-id-22\" class=\"sk-toggleable__label sk-toggleable__label-arrow\">LinearRegression</label><div class=\"sk-toggleable__content\"><pre>LinearRegression()</pre></div></div></div></div></div>"
      ],
      "text/plain": [
       "LinearRegression()"
      ]
     },
     "execution_count": 470,
     "metadata": {},
     "output_type": "execute_result"
    }
   ],
   "source": [
    "reg.fit(x_train,y_train)"
   ]
  },
  {
   "cell_type": "code",
   "execution_count": 471,
   "id": "35c29d48-e417-48d3-a8f5-930e2b0da5f0",
   "metadata": {},
   "outputs": [
    {
     "data": {
      "text/plain": [
       "525     25.12\n",
       "256     31.64\n",
       "272     42.70\n",
       "700      6.88\n",
       "904     23.79\n",
       "        ...  \n",
       "877     31.42\n",
       "794     26.74\n",
       "401     58.52\n",
       "875     18.28\n",
       "1012    61.24\n",
       "Name: Strength, Length: 309, dtype: float64"
      ]
     },
     "execution_count": 471,
     "metadata": {},
     "output_type": "execute_result"
    }
   ],
   "source": [
    "y_test"
   ]
  },
  {
   "cell_type": "code",
   "execution_count": 472,
   "id": "0015787e-f6c0-486b-8817-7bf5ce6a13d5",
   "metadata": {},
   "outputs": [],
   "source": [
    "y_pred=reg.predict(x_test)"
   ]
  },
  {
   "cell_type": "code",
   "execution_count": 473,
   "id": "62c426f2-58ed-4f9b-a358-a7f28c8e25e2",
   "metadata": {},
   "outputs": [
    {
     "name": "stderr",
     "output_type": "stream",
     "text": [
      "/opt/anaconda3/lib/python3.11/site-packages/sklearn/base.py:439: UserWarning: X does not have valid feature names, but LinearRegression was fitted with feature names\n",
      "  warnings.warn(\n"
     ]
    },
    {
     "data": {
      "text/plain": [
       "array([32.03464796])"
      ]
     },
     "execution_count": 473,
     "metadata": {},
     "output_type": "execute_result"
    }
   ],
   "source": [
    "reg.predict([[260.9,100.5,78.3,200.6,8.6,864.5,761.5,28\t]])"
   ]
  },
  {
   "cell_type": "code",
   "execution_count": 474,
   "id": "7404d073-dac5-4c1f-8e48-1728d0ba57a8",
   "metadata": {},
   "outputs": [
    {
     "data": {
      "text/plain": [
       "array([ 0.1164945 ,  0.10419801,  0.08431667, -0.17497516,  0.21151376,\n",
       "        0.01417233,  0.01286235,  0.1138858 ])"
      ]
     },
     "execution_count": 474,
     "metadata": {},
     "output_type": "execute_result"
    }
   ],
   "source": [
    "reg.coef_   # it's show every column m //we know [ y = m1*x + m2*x + m3*x + c ]"
   ]
  },
  {
   "cell_type": "code",
   "execution_count": 475,
   "id": "9262db40-a3db-4c4a-9006-d4d3bb4fd61c",
   "metadata": {},
   "outputs": [
    {
     "data": {
      "text/plain": [
       "-7.387122132933797"
      ]
     },
     "execution_count": 475,
     "metadata": {},
     "output_type": "execute_result"
    }
   ],
   "source": [
    "reg.intercept_ # it's show c"
   ]
  },
  {
   "cell_type": "markdown",
   "id": "9b24a676-edda-4160-b275-d99d8a40ed62",
   "metadata": {},
   "source": [
    "# checking Manual way model Working Well or Not "
   ]
  },
  {
   "cell_type": "code",
   "execution_count": 476,
   "id": "ae6909f0-92ff-4178-8487-c13f7fb64414",
   "metadata": {},
   "outputs": [
    {
     "data": {
      "text/plain": [
       "32.23958798592134"
      ]
     },
     "execution_count": 476,
     "metadata": {},
     "output_type": "execute_result"
    }
   ],
   "source": [
    "(0.11902377*260.9)+\t(0.09779638*100.5)+(0.08760915*78.3)+(-0.1670018*200.6)+(0.23509776*8.6)+(0.01184733*864.5)+(0.01514971*761.5)+(28*0.10723262)+(-8.804360208078663)"
   ]
  },
  {
   "cell_type": "code",
   "execution_count": 477,
   "id": "5053587a-1a75-4f86-b942-882eb24c81f5",
   "metadata": {},
   "outputs": [],
   "source": [
    "differences = y_test - y_pred"
   ]
  },
  {
   "cell_type": "code",
   "execution_count": 478,
   "id": "de471b54-ffca-4373-98bf-e435a4b6d758",
   "metadata": {},
   "outputs": [],
   "source": [
    "# Create a DataFrame to display the actual, predicted, and difference values side by side\n",
    "results_df = pd.DataFrame({\n",
    "    'Actual': y_test,\n",
    "    'Predicted': y_pred,\n",
    "    'Difference': differences\n",
    "})\n"
   ]
  },
  {
   "cell_type": "code",
   "execution_count": 479,
   "id": "1b391f79-5b9f-437c-9b53-b0aa9180f840",
   "metadata": {},
   "outputs": [
    {
     "name": "stdout",
     "output_type": "stream",
     "text": [
      "      Actual  Predicted  Difference\n",
      "525    25.12  47.656873  -22.536873\n",
      "256    31.64  28.894072    2.745928\n",
      "272    42.70  32.203265   10.496735\n",
      "700     6.88  19.630175  -12.750175\n",
      "904    23.79  24.653632   -0.863632\n",
      "...      ...        ...         ...\n",
      "877    31.42  24.577121    6.842879\n",
      "794    26.74  37.086089  -10.346089\n",
      "401    58.52  48.110757   10.409243\n",
      "875    18.28  24.863466   -6.583466\n",
      "1012   61.24  45.163213   16.076787\n",
      "\n",
      "[309 rows x 3 columns]\n"
     ]
    }
   ],
   "source": [
    "print(results_df)"
   ]
  },
  {
   "cell_type": "markdown",
   "id": "a1038546-afe3-4614-b969-7e6c53db2cae",
   "metadata": {},
   "source": [
    "# Try to Find Which model is best for it "
   ]
  },
  {
   "cell_type": "code",
   "execution_count": 488,
   "id": "5312713e-6a57-47dd-bd22-75b5a1a5903b",
   "metadata": {},
   "outputs": [],
   "source": [
    "# Ridge Regression\n",
    "reg_ridge = Ridge(alpha=1.0)  # You can adjust the alpha value for different levels of regularization\n",
    "reg_ridge.fit(x_train, y_train)\n",
    "y_pred_ridge = reg_ridge.predict(x_test)\n",
    "\n",
    "# Lasso Regression\n",
    "reg_lasso = Lasso(alpha=1.0)  # You can adjust the alpha value for different levels of regularization\n",
    "reg_lasso.fit(x_train, y_train)\n",
    "y_pred_lasso = reg_lasso.predict(x_test)\n",
    "\n",
    "# Polynomial Regression\n",
    "poly = PolynomialFeatures(degree=3)  # You can adjust the degree of polynomial\n",
    "x_train_poly = poly.fit_transform(x_train)\n",
    "x_test_poly = poly.transform(x_test)\n",
    "reg_poly = LinearRegression()\n",
    "reg_poly.fit(x_train_poly, y_train)\n",
    "y_pred_poly = reg_poly.predict(x_test_poly)\n",
    "\n",
    "# Support Vector Regression (SVR)\n",
    "reg_svr = SVR(kernel='rbf')  # You can choose different kernels like 'linear', 'poly', 'rbf'\n",
    "reg_svr.fit(x_train, y_train)\n",
    "y_pred_svr = reg_svr.predict(x_test)\n",
    "score_svr = r2_score(y_test, y_pred_svr)\n",
    "\n",
    "# Decision Tree Regression\n",
    "reg_dt = DecisionTreeRegressor()\n",
    "reg_dt.fit(x_train, y_train)\n",
    "y_pred_dt = reg_dt.predict(x_test)\n",
    "score_dt = r2_score(y_test, y_pred_dt)\n",
    "\n",
    "# Random Forest Regression\n",
    "reg_rf = RandomForestRegressor()\n",
    "reg_rf.fit(x_train, y_train)\n",
    "y_pred_rf = reg_rf.predict(x_test)\n",
    "score_rf = r2_score(y_test, y_pred_rf)\n",
    "\n",
    "# Gradient Boosting Regression\n",
    "reg_gb = GradientBoostingRegressor()\n",
    "reg_gb.fit(x_train, y_train)\n",
    "y_pred_gb = reg_gb.predict(x_test)\n",
    "score_gb = r2_score(y_test, y_pred_gb)\n",
    "\n",
    "# AdaBoost Regression\n",
    "reg_ab = AdaBoostRegressor()\n",
    "reg_ab.fit(x_train, y_train)\n",
    "y_pred_ab = reg_ab.predict(x_test)\n",
    "score_ab = r2_score(y_test, y_pred_ab)\n",
    "\n",
    "################################\n",
    "# Apply polynomial features\n",
    "poly = PolynomialFeatures(degree=2)\n",
    "x_train_poly = poly.fit_transform(x_train)\n",
    "x_test_poly = poly.transform(x_test)\n",
    "\n",
    "# Apply feature scaling\n",
    "scaler = StandardScaler()\n",
    "x_train_poly_scaled = scaler.fit_transform(x_train_poly)\n",
    "x_test_poly_scaled = scaler.transform(x_test_poly)\n",
    "\n",
    "# Apply Ridge regression\n",
    "alpha = 1.0  # Regularization strength\n",
    "ridge_reg = Ridge(alpha=alpha)\n",
    "ridge_reg.fit(x_train_poly_scaled, y_train)\n",
    "\n",
    "# Predictions\n",
    "y_pred = ridge_reg.predict(x_test_poly_scaled)\n",
    "\n",
    "# Evaluate model\n",
    "score = r2_score(y_test, y_pred)\n"
   ]
  },
  {
   "cell_type": "markdown",
   "id": "adba3db0-41b0-4718-acea-5ffabbdc4470",
   "metadata": {},
   "source": [
    "# R-Squared Value (Accuracy of those Model)"
   ]
  },
  {
   "cell_type": "code",
   "execution_count": 489,
   "id": "1e5aa314-7a1a-4bea-9edb-d5448f50eceb",
   "metadata": {},
   "outputs": [],
   "source": [
    "from sklearn.metrics import r2_score"
   ]
  },
  {
   "cell_type": "code",
   "execution_count": 490,
   "id": "87bb5c22-b399-42f7-aca1-9aabebd50858",
   "metadata": {},
   "outputs": [],
   "source": [
    "score_linear=r2_score(y_test,y_pred)\n",
    "score_ridge = r2_score(y_test, y_pred_ridge)\n",
    "score_lasso = r2_score(y_test, y_pred_lasso)\n",
    "score_poly = r2_score(y_test, y_pred_poly)\n",
    "score_svr = r2_score(y_test, y_pred_svr)\n",
    "score_dt = r2_score(y_test, y_pred_dt)\n",
    "score_rf = r2_score(y_test, y_pred_rf)\n",
    "score_gb = r2_score(y_test, y_pred_gb)\n",
    "score_ab = r2_score(y_test, y_pred_ab)\n",
    "score_mixed = r2_score(y_test, y_pred)"
   ]
  },
  {
   "cell_type": "code",
   "execution_count": 491,
   "id": "952c3278-f46d-4121-ae45-1986b8869ea5",
   "metadata": {},
   "outputs": [
    {
     "name": "stdout",
     "output_type": "stream",
     "text": [
      "Linear Regression R2 Score: 0.7748637716431683\n",
      "Ridge Regression R2 Score: 0.5856396135697168\n",
      "Lasso Regression R2 Score: 0.5836446790880367\n",
      "Polynomial Regression R2 Score: 0.8995283777723114\n",
      "SVR R2 Score: 0.22006261527280335\n",
      "Decision Tree Regression R2 Score: 0.8663154044966637\n",
      "Random Forest Regression R2 Score: 0.9148075297293795\n",
      "Gradient Boosting Regression R2 Score: 0.9126233275578112\n",
      "AdaBoost Regression R2 Score: 0.7984741836988931\n",
      "Mixed model(regularization ar polynomial ): 0.7748637716431683\n"
     ]
    }
   ],
   "source": [
    "# Printing scores\n",
    "print(\"Linear Regression R2 Score:\", score_linear)\n",
    "print(\"Ridge Regression R2 Score:\", score_ridge)\n",
    "print(\"Lasso Regression R2 Score:\", score_lasso)\n",
    "print(\"Polynomial Regression R2 Score:\", score_poly)\n",
    "print(\"SVR R2 Score:\", score_svr)\n",
    "print(\"Decision Tree Regression R2 Score:\", score_dt)\n",
    "print(\"Random Forest Regression R2 Score:\", score_rf)\n",
    "print(\"Gradient Boosting Regression R2 Score:\", score_gb)\n",
    "print(\"AdaBoost Regression R2 Score:\", score_ab)\n",
    "print(\"Mixed model(regularization ar polynomial ):\", score_mixed)"
   ]
  }
 ],
 "metadata": {
  "kernelspec": {
   "display_name": "Python 3 (ipykernel)",
   "language": "python",
   "name": "python3"
  },
  "language_info": {
   "codemirror_mode": {
    "name": "ipython",
    "version": 3
   },
   "file_extension": ".py",
   "mimetype": "text/x-python",
   "name": "python",
   "nbconvert_exporter": "python",
   "pygments_lexer": "ipython3",
   "version": "3.11.7"
  }
 },
 "nbformat": 4,
 "nbformat_minor": 5
}
