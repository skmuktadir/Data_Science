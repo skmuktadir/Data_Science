{
 "cells": [
  {
   "cell_type": "markdown",
   "id": "1248ae03-dedd-4bf0-b90a-07bc8b7515c8",
   "metadata": {},
   "source": [
    "# Object Oriented"
   ]
  },
  {
   "cell_type": "code",
   "execution_count": 3,
   "id": "d8502c66-3ea1-447a-9003-20c55d0c1c9d",
   "metadata": {},
   "outputs": [],
   "source": [
    "class student:\n",
    "    Roll =\"\"\n",
    "    Cgpa =\"\"\n",
    "    \n",
    "    def setvalue(self, roll, cgpa):\n",
    "        self.Roll=roll\n",
    "        self.Cgpa=cgpa\n",
    "    def display(self):\n",
    "        print(f\"Roll:{self.Roll} , Cgpa:{self.Cgpa}\")\n",
    "    "
   ]
  },
  {
   "cell_type": "code",
   "execution_count": 7,
   "id": "d0b0e60f-5d96-4c7b-a03a-876f27e1a169",
   "metadata": {},
   "outputs": [
    {
     "name": "stdout",
     "output_type": "stream",
     "text": [
      "Roll:32 , Cgpa:3.88\n"
     ]
    }
   ],
   "source": [
    "rahim = student()\n",
    "rahim.setvalue(32,3.88)\n",
    "rahim.display()"
   ]
  },
  {
   "cell_type": "code",
   "execution_count": 13,
   "id": "0b0bc0d0-0aaa-4ba4-9ce8-3a3d141da348",
   "metadata": {},
   "outputs": [
    {
     "name": "stdout",
     "output_type": "stream",
     "text": [
      "Roll:42 , Cgpa:3.72\n"
     ]
    }
   ],
   "source": [
    "karim = student()\n",
    "karim.setvalue(42,3.72)\n",
    "karim.display()"
   ]
  },
  {
   "cell_type": "code",
   "execution_count": null,
   "id": "ad242d4e-c238-47e3-9d4b-0edbd6b68e9d",
   "metadata": {},
   "outputs": [],
   "source": []
  }
 ],
 "metadata": {
  "kernelspec": {
   "display_name": "Python 3 (ipykernel)",
   "language": "python",
   "name": "python3"
  },
  "language_info": {
   "codemirror_mode": {
    "name": "ipython",
    "version": 3
   },
   "file_extension": ".py",
   "mimetype": "text/x-python",
   "name": "python",
   "nbconvert_exporter": "python",
   "pygments_lexer": "ipython3",
   "version": "3.11.0"
  }
 },
 "nbformat": 4,
 "nbformat_minor": 5
}
